{
  "nbformat": 4,
  "nbformat_minor": 0,
  "metadata": {
    "colab": {
      "name": "hw3_p3.ipynb",
      "provenance": []
    },
    "kernelspec": {
      "name": "python3",
      "display_name": "Python 3"
    },
    "language_info": {
      "name": "python"
    }
  },
  "cells": [
    {
      "cell_type": "markdown",
      "metadata": {
        "id": "QoGVxFuCaPrh"
      },
      "source": [
        "# Problem 3"
      ]
    },
    {
      "cell_type": "markdown",
      "metadata": {
        "id": "j1HYTZssaWZk"
      },
      "source": [
        "We will use the following formulae to calculate \\\\\n",
        "Conv Layer: \\\\\n",
        "Input: wxhxd, k filters of size f, stride s and padding p \\\\\n",
        "Ouput: ((w-f+2p)/s + 1, (-f+2p)/s + 1, k) \\\\\n",
        "Pool Layer: \\\\\n",
        "Input wxhxd, Pooling size f and stride = s \\\\\n",
        "Output: ((w-f)/s + 1, (h-f)/s + 1, d)\n",
        "\n"
      ]
    },
    {
      "cell_type": "markdown",
      "metadata": {
        "id": "QhlzSo3mbW7W"
      },
      "source": [
        "3.1 AlexNet no of parameters \\\\\n",
        "Conv-1: 11x11x3x96 + 96 = 34944 \\\\\n",
        "Conv-2: 2x(5x5x48x128 + 128) = 307456 \\\\\n",
        "Conv-3: 3x3x(2x128)x(2x192) + 2x192 = 885120 \\\\\n",
        "Conv-4: 2x(3x3x192x192 + 192) = 663936 \\\\\n",
        "Conv-5: 2x(3x3x192x128 + 128) = 442624 \\\\\n",
        "Dense-1: 9216x4096 + 4096 = 37752832 \\\\\n",
        "Dense-2: 4096x4096 + 4096 = 16781312 \\\\\n",
        "Dense-3: 4096x1000 + 1000 = 4097000 \\\\\n",
        "Total no of parameters = 60965224. \\\\"
      ]
    },
    {
      "cell_type": "markdown",
      "metadata": {
        "id": "MuESBTCgqLLN"
      },
      "source": [
        "3.2 VGG-19 no of parameters without inicluding biases. \\\\\n",
        "I have denoted the values already present in the table as _. \\\\\n",
        "In each of the lines, the first value corresponds to the activations and the second to the number of parameters. \\\\\n",
        "in: _ _ \\\\\n",
        "c1: _ _ \\\\\n",
        "c2: _ _ \\\\\n",
        "p1: _ _ \\\\\n",
        "c3: 112x112x128 = 1605632, 3x3x64x128 = 73728 \\\\\n",
        "c4: 112x112x128 = 1605632, 3x3x128x128 = 147456 \\\\\n",
        "p2: _ _ \\\\\n",
        "c5: 56x56x256 = 802816, 3x3x128x256 = 294912 \\\\\n",
        "c6: _ _ \\\\\n",
        "c7: 56x56x256 = 802816, 3x3x256x256 = 589824 \\\\\n",
        "c8: 56x56x256 = 802816, 3x3x256x256 = 589824 \\\\\n",
        "p3: 28x28x256 = 200704, _ \\\\\n",
        "c9: _ _ \\\\\n",
        "c10: 28x28x512 = 401408, 3x3x512x512 = 2359296 \\\\\n",
        "c11: _, 3x3x512x512 = 2359296 \\\\\n",
        "c12: 28x28x512 = 401408, 3x3x512x512 = 2359296 \\\\\n",
        "p4: 14x14x512 = 100352, _ \\\\\n",
        "c13: 14x14x512 = 100352, 3x3x512x512 = 2359296 \\\\\n",
        "c14: 14x14x512 = 100352, 3x3x512x512 = 2359296 \\\\\n",
        "c15: 14x14x512 = 100352, 3x3x512x512 = 2359296 \\\\\n",
        "c16: 14x14x512 = 100352, 3x3x512x512 = 2359296 \\\\\n",
        "p5: 7x7x512 = 25088, 0 \\\\\n",
        "fc1: _, 7x7x512x4096 = 102760488 \\\\\n",
        "fc2: _ _ \\\\\n",
        "fc3: _ 1000x4096 = 4096000 \\\\\n",
        "Total activations = 16542184 \\\\\n",
        "Total parameters = 140113640 \\\\"
      ]
    },
    {
      "cell_type": "markdown",
      "metadata": {
        "id": "oyPSB17igavL"
      },
      "source": [
        "3.3 From thhe reference given, the relation between receptive fields of the $(l-1)^{th}$ layer and the $l^{th}$ layer is \\\\\n",
        "$$r_{l-1} = s_lr_l + (k_l-s_l)$$\n",
        "where k_l is the kernel size and s_l is the stride. \\\\\n",
        "Solving the recurrence relation, we get $$r_0 = \\sum_{l=1}^{L}((k_l-1)\\Pi_{i=1}^{l-1}s_i) + 1 $$ \\\\\n",
        "So if we have a stack of N convolutional layers each of filter size FxF then \\\\\n",
        "$$r_0 = \\sum_{l=1}^{N}((F-1)\\Pi_{i=1}^{l-1}s_i) + 1$$ \\\\\n",
        "For $s_i=1$, we have $$r_0 = \\sum_{l=1}^{N}(F-1) + 1 = N(F-1) + 1 = NF-N+1$$ \\\\\n",
        "For 1 convolutional layer with filter size NF-N+1, \\\\\n",
        "$$r_0 = \\sum_{l=1}^{N}((k_l-1)\\Pi_{i=1}^{l-1}s_i) + 1 = k_l-1+1 = NF-N+1$$ \\\\\n",
        "Therefore a stack of N convolution layers each of filter size F×F has the same\n",
        "receptive field as one convolution layer with filter of size (N F −N + 1) ×(N F −N + 1). \\\\\n",
        "For 3 filters of size 5x5, N=3 and F=5, we get a receptive field = 3x5-3+1 = 13"
      ]
    },
    {
      "cell_type": "markdown",
      "metadata": {
        "id": "3E5LUC7XkWgN"
      },
      "source": [
        "3.4.(a) The goal behind designing the inception module is to increase the depth and width of the network while keeping it computationally budget constant. \n",
        "Deep networks contain computations involving sparse matrices. Inception modules attempt to convert these sparse matrices into denser matrices which enable optimal usage of resources. The inception module is based on finding how an optimal local sparse structure in a CNN can be approximated by dense components."
      ]
    },
    {
      "cell_type": "markdown",
      "metadata": {
        "id": "LEXAbcDQm0n1"
      },
      "source": [
        "3.4.(b) Naive: (i) 32x32x128 (ii) 32x32x192 (iii) 32x32x96 (iv) 32x32x256 \\\\\n",
        "Output of filter concatenation: 32x32x(128+192+96+256) = 32x32x672 \\\\\n",
        "Dimensionality Reduction: (i) 32x32x128 (ii) 32x32x192 (iii) 32x32x96 (iv) 32x32x64 \\\\\n",
        "Output of filter concatenation: 32x32x(128+192+96+64) = 32x32x480 \\\\\n"
      ]
    },
    {
      "cell_type": "markdown",
      "metadata": {
        "id": "kEwCb2sLoIeX"
      },
      "source": [
        "3.4.(c) Naive: (i) 32x32x256x1x1x128 = 33554432 (ii) 32x32x256x3x3x192 = 452984832 (iii) 32x32x256x5x5x96 = 629145600 \\\\\n",
        "Total convolutional operations = 1115684864 \\\\\n",
        "Dimensionality Reduction: (i)Conv(1x1) 32x32x256x1x1x128 + 32x32x256x1x1x128 +32x32x256x1x1x64 = 92274688 (ii)Conv(3x3) 32x32x9x128x192 = 226492416 (iii) Conv(5x5) 32x32x25x32x96 = 78643200 \\\\\n",
        "Total operations = 397410304\n"
      ]
    },
    {
      "cell_type": "markdown",
      "metadata": {
        "id": "oMX7sMwfqGZJ"
      },
      "source": [
        "3.4.(d) The naive approach has moore than 2.8 times the number of convolutional computations when compared to the dimensionality reduction based approach. Therefore using the DR approach the computational expenses are reduced almost to a third."
      ]
    }
  ]
}