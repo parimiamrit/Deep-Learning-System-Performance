{
  "nbformat": 4,
  "nbformat_minor": 0,
  "metadata": {
    "colab": {
      "name": "DL_hw3_p1.ipynb",
      "provenance": [],
      "collapsed_sections": []
    },
    "kernelspec": {
      "name": "python3",
      "display_name": "Python 3"
    },
    "language_info": {
      "name": "python"
    },
    "accelerator": "GPU"
  },
  "cells": [
    {
      "cell_type": "markdown",
      "metadata": {
        "id": "PpBi5Qg9JyQQ"
      },
      "source": [
        "##Homework 3 \n",
        "##Amrit Parimi ap4142\n"
      ]
    },
    {
      "cell_type": "markdown",
      "metadata": {
        "id": "BkqrqsrreKso"
      },
      "source": [
        "**AdaGrad weight update equation**:$$\\theta_{t+1} = \\theta_{t} - \\dfrac{\\eta}{\\sqrt{G_{t} + \\epsilon}} \\odot g_{t}$$\n",
        "where $\\theta$ is the vector of parameters. $\\eta$ is the learning rate. $\\epsilon$ is a smoothing term that prevents division by $0$. $g_t$ is the gradient at time step $t$. $G_t$ is a diagonal matrix where each diagonal element $G_{t,ii} $ is the sum of squares of the gradients with respect to $\\theta_i$ up to time step $t$. \\\\\n",
        "$\\eta$-learning rate is the only hyperparameter \\\\\n",
        "\n",
        "\n",
        "**RMSProp weight update**:$$\\begin{align} \n",
        "\\begin{split} \n",
        "E[g^2]_t = \\gamma E[g^2]_{t-1} + (1 - \\gamma) g^2_t \\\\\n",
        "\\theta_{t+1} = \\theta_{t} - \\dfrac{\\eta}{\\sqrt{E[g^2]_t + \\epsilon}} g_{t} \n",
        "\\end{split} \n",
        "\\end{align}$$\n",
        "Here, $E[g^2]_t$ is the running average of all past gradients squared at time t. $g_t$ is the gradient at time t. $ϵ$ is the smoothing term to prevent division by 0. \\\\\n",
        "$\\gamma$-momentum decay and $η$-learning rate are the hyperparameters. \\\\\n",
        "\n",
        "**RMSProp + Nesterov weight update**:\n",
        "$$\\begin{align} \n",
        "\\begin{split}\n",
        "v_t = \\rho v_{t-1} + (1 - \\rho)g_t^2 \\\\\n",
        "E[g^2]_t = \\gamma E[g^2]_{t-1} + (1 - \\gamma) v_t \\\\\n",
        "\\theta_{t+1} = \\theta_{t} - \\dfrac{\\eta}{\\sqrt{E[g^2]_t + \\epsilon}} g_{t} \n",
        "\\end{split} \n",
        "\\end{align}$$\n",
        "Here, $\\rho$- decaying constant, $\\eta$-learning rate $\\gamma$-momentum decay term are the hyperparameters.\n",
        "\n",
        "**AdaDelta weight update**:$$\\begin{align} \n",
        "\\begin{split} \n",
        "E[Δθ^2]_t = \\rho E[Δθ^2]_{t-1} + (1 - \\rho) Δθ^2 \\\\ \n",
        "\\theta_{t+1} = \\theta_{t} - \\dfrac{\\sqrt{E[Δθ^2]_{t-1} + \\epsilon}}{\\sqrt{E[g^2]_t + \\epsilon}} g_{t} \n",
        "\\end{split} \n",
        "\\end{align}$$\n",
        "$E[Δθ^2]$ is the running average of the decayed squared parameter update. \\\\\n",
        "$\\rho$-decaying constant is the hyperparameter.\n",
        "\n",
        "**Adam weight update**:$$\\theta_{t+1} = \\theta_{t} - \\dfrac{\\eta}{\\sqrt{\\hat{v}_t} + \\epsilon} \\hat{m}_t \\\\\n",
        "where\\ \\ \\hat{m_t} = \\frac{m_t}{1 - \\rho_1^t} \\\\\n",
        "\\hat{v_t} = \\frac{v_t}{1 - \\rho_2^t} \\\\\n",
        "and \\ \\ m_t = \\rho_1m_{t-1} + (1 - \\rho_1)g_t \\\\\n",
        " v_t = \\rho_2v_{t-1} + (1 - \\rho_2)g_t^2 $$\n",
        "\n",
        "$m_t$ and $v_t$ are estimates of the first moment (the mean) and the second moment (the uncentered variance) of the gradients respectively.\n",
        "$\\hat{m_t}$ and $\\hat{v_t}$ are unbiased estimates of the first moment (the mean) and the second moment of the gradients respectively. \\\\\n",
        "Here, $\\eta, \\rho_1, \\rho_2$ are the hyperparameters. \\\\\n",
        "\n",
        "**Adam and Adadelta vs RMSProp**:\n",
        "RMSProp is similar to Adadelta excpet that it uses RMS in theh numerator instead of the learniing rate. This helps us reduce a hyperparameter. And Adam corrects the bias making it unbiased and also adds momentum to the update."
      ]
    },
    {
      "cell_type": "code",
      "metadata": {
        "id": "-ZtpC4xN-YFo"
      },
      "source": [
        "import numpy as np\n",
        "import matplotlib.pyplot as plt\n",
        "import time"
      ],
      "execution_count": null,
      "outputs": []
    },
    {
      "cell_type": "code",
      "metadata": {
        "colab": {
          "base_uri": "https://localhost:8080/"
        },
        "id": "6Lz9KMp1_Tc_",
        "outputId": "04447d1e-ab4f-4bdc-b168-ac70f4b41fc1"
      },
      "source": [
        "from keras.datasets import cifar10\n",
        "(x_train, y_train), (x_test, y_test) = cifar10.load_data()\n",
        "print(x_train.shape,y_train.shape)"
      ],
      "execution_count": null,
      "outputs": [
        {
          "output_type": "stream",
          "name": "stdout",
          "text": [
            "Downloading data from https://www.cs.toronto.edu/~kriz/cifar-10-python.tar.gz\n",
            "170500096/170498071 [==============================] - 7s 0us/step\n",
            "170508288/170498071 [==============================] - 7s 0us/step\n",
            "(50000, 32, 32, 3) (50000, 1)\n"
          ]
        }
      ]
    },
    {
      "cell_type": "code",
      "metadata": {
        "colab": {
          "base_uri": "https://localhost:8080/"
        },
        "id": "4SagktFy_YC1",
        "outputId": "14dcacb8-a3df-4eaa-9f1b-9861bbc8486a"
      },
      "source": [
        "import tensorflow as tf\n",
        "from keras.utils import np_utils\n",
        "import keras\n",
        "# one-hot encode the labels\n",
        "num_classes = len(np.unique(y_train))\n",
        "print(num_classes)\n",
        "y_train = tf.keras.utils.to_categorical(y_train, num_classes)\n",
        "y_test = tf.keras.utils.to_categorical(y_test, num_classes)\n",
        "\n",
        "x_train = x_train.astype('float32')\n",
        "x_test = x_test.astype('float32')\n",
        "x_train /= 255\n",
        "x_test /= 255\n",
        "\n",
        "(x_train, x_valid) = x_train[5000:], x_train[:5000]\n",
        "(y_train, y_valid) = y_train[5000:], y_train[:5000]\n",
        "print(y_test.shape,y_valid.shape)\n",
        "y_train.shape"
      ],
      "execution_count": null,
      "outputs": [
        {
          "output_type": "stream",
          "name": "stdout",
          "text": [
            "10\n",
            "(10000, 10) (5000, 10)\n"
          ]
        },
        {
          "output_type": "execute_result",
          "data": {
            "text/plain": [
              "(45000, 10)"
            ]
          },
          "metadata": {},
          "execution_count": 3
        }
      ]
    },
    {
      "cell_type": "code",
      "metadata": {
        "id": "sUurNHaJ-YSn"
      },
      "source": [
        "from keras.models import Sequential\n",
        "from keras.layers import Dense, Dropout, Flatten\n",
        "\n",
        "# define the model\n",
        "def create_model1():\n",
        "    model = Sequential()\n",
        "    model.add(Flatten(input_shape = x_train.shape[1:]))\n",
        "    model.add(Dense(1000, activation='relu', kernel_regularizer='l2'))\n",
        "    # model.add(Dropout(0.2))\n",
        "    model.add(Dense(1000, activation='relu', kernel_regularizer='l2'))\n",
        "    # model.add(Dropout(0.2))\n",
        "    model.add(Dense(num_classes, activation='softmax'))\n",
        "    return model\n"
      ],
      "execution_count": null,
      "outputs": []
    },
    {
      "cell_type": "code",
      "metadata": {
        "id": "tIWijVBmmsSz"
      },
      "source": [
        "def create_model2():\n",
        "    model = Sequential()\n",
        "    model.add(Flatten(input_shape = x_train.shape[1:]))\n",
        "    model.add(Dropout(0.2))\n",
        "    model.add(Dense(1000, activation='relu', kernel_regularizer='l2'))\n",
        "    model.add(Dropout(0.5))\n",
        "    model.add(Dense(1000, activation='relu', kernel_regularizer='l2'))\n",
        "    model.add(Dropout(0.5))\n",
        "    model.add(Dense(num_classes, activation='softmax'))\n",
        "    return model"
      ],
      "execution_count": null,
      "outputs": []
    },
    {
      "cell_type": "code",
      "metadata": {
        "id": "3LIbuKHw-r68"
      },
      "source": [
        "from keras.callbacks import ModelCheckpoint   \n",
        "\n",
        "def train(model,f):\n",
        "    checkpointer = ModelCheckpoint(filepath=f, verbose=0, \n",
        "                                save_best_only=True)\n",
        "    hist = model.fit(x_train, y_train, batch_size=128, epochs=200,\n",
        "            validation_data=(x_valid, y_valid), callbacks=[checkpointer], \n",
        "            verbose=0, shuffle=True)\n",
        "    return hist\n",
        "train_times = []"
      ],
      "execution_count": null,
      "outputs": []
    },
    {
      "cell_type": "code",
      "metadata": {
        "id": "9KrD8glX-doG"
      },
      "source": [
        "model1 = create_model1()\n",
        "model1.compile(loss='categorical_crossentropy', optimizer='adagrad', metrics=['accuracy'])\n",
        "from tensorflow.python.client import device_lib\n",
        "# print(device_lib.list_local_devices())\n",
        "s = time.time()\n",
        "hist1 = train(model1,'MLP.best_weights1.hdf5')\n",
        "train_times.append(time.time()-s)"
      ],
      "execution_count": null,
      "outputs": []
    },
    {
      "cell_type": "code",
      "metadata": {
        "id": "TVP4dOmN5ALJ"
      },
      "source": [
        "model2 = create_model1()\n",
        "model2.compile(loss='categorical_crossentropy', optimizer='rmsprop', metrics=['accuracy'])\n",
        "from tensorflow.python.client import device_lib\n",
        "# print(device_lib.list_local_devices())\n",
        "s = time.time()\n",
        "hist2 = train(model2,'MLP.best_weights2.hdf5')\n",
        "train_times.append(time.time()-s)\n"
      ],
      "execution_count": null,
      "outputs": []
    },
    {
      "cell_type": "code",
      "metadata": {
        "id": "Qo1q2EP85q7n"
      },
      "source": [
        "# Here we used Nadam instead of rmsprop+nesterov momentum\n",
        "model3 = create_model1()\n",
        "model3.compile(loss='categorical_crossentropy', optimizer='nadam', metrics=['accuracy'])\n",
        "from tensorflow.python.client import device_lib\n",
        "# print(device_lib.list_local_devices())\n",
        "s = time.time()\n",
        "hist3 = train(model3,'MLP.best_weights3.hdf5')\n",
        "train_times.append(time.time()-s)\n"
      ],
      "execution_count": null,
      "outputs": []
    },
    {
      "cell_type": "code",
      "metadata": {
        "id": "6dRmlYKA59AE"
      },
      "source": [
        "model4 = create_model1()\n",
        "model4.compile(loss='categorical_crossentropy', optimizer='adadelta', metrics=['accuracy'])\n",
        "from tensorflow.python.client import device_lib\n",
        "# print(device_lib.list_local_devices())\n",
        "s = time.time()\n",
        "hist4 = train(model4,'MLP.best_weights4.hdf5')\n",
        "train_times.append(time.time()-s)\n"
      ],
      "execution_count": null,
      "outputs": []
    },
    {
      "cell_type": "code",
      "metadata": {
        "id": "DuU9F5Si6Er9"
      },
      "source": [
        "model5 = create_model1()\n",
        "model5.compile(loss='categorical_crossentropy', optimizer='adam', metrics=['accuracy'])\n",
        "from tensorflow.python.client import device_lib\n",
        "# print(device_lib.list_local_devices())\n",
        "s = time.time()\n",
        "hist5 = train(model5,'MLP.best_weights5.hdf5')\n",
        "train_times.append(time.time()-s)\n"
      ],
      "execution_count": null,
      "outputs": []
    },
    {
      "cell_type": "code",
      "metadata": {
        "colab": {
          "base_uri": "https://localhost:8080/",
          "height": 442
        },
        "id": "qXWG26ltNbR8",
        "outputId": "fa0396e1-066b-4acc-ebf2-4f29f65bdb0c"
      },
      "source": [
        "plt.plot([i+1 for i in range(200)],hist1.history['loss'],label='Adagrad')\n",
        "plt.plot([i+1 for i in range(200)],hist2.history['loss'],label='RMSProp')\n",
        "plt.plot([i+1 for i in range(200)],hist3.history['loss'],label='RMSProp + Nesterov Momentum')\n",
        "plt.plot([i+1 for i in range(200)],hist4.history['loss'],label='AdaDelta')\n",
        "plt.plot([i+1 for i in range(200)],hist5.history['loss'],label='Adam')\n",
        "plt.legend(loc='upper right')\n",
        "plt.ylabel('Training Loss')\n",
        "plt.xlabel('Epochs')\n",
        "fig = plt.gcf()\n",
        "fig.set_size_inches(10, 7)\n",
        "# plt.ylim(0,5)\n",
        "plt.show()"
      ],
      "execution_count": null,
      "outputs": [
        {
          "output_type": "display_data",
          "data": {
            "image/png": "[encoded data removed]",
            "text/plain": [
              "<Figure size 720x504 with 1 Axes>"
            ]
          },
          "metadata": {
            "needs_background": "light"
          }
        }
      ]
    },
    {
      "cell_type": "markdown",
      "metadata": {
        "id": "xhXmmkOTrEcd"
      },
      "source": [
        "1.2 Nadam performs best and achieves the least loss as can be seen in the graph."
      ]
    },
    {
      "cell_type": "code",
      "metadata": {
        "colab": {
          "base_uri": "https://localhost:8080/"
        },
        "id": "XBN9L8qi-wJ6",
        "outputId": "e19ca36f-5e5c-4615-e8e8-36f7e04056f6"
      },
      "source": [
        "model1.load_weights('MLP.best_weights1.hdf5')\n",
        "mlp_score = model1.evaluate(x_test, y_test, verbose=0)\n",
        "print('\\n', 'Test accuracy:', mlp_score[1])"
      ],
      "execution_count": null,
      "outputs": [
        {
          "output_type": "stream",
          "name": "stdout",
          "text": [
            "\n",
            " Test accuracy: 0.5031999945640564\n"
          ]
        }
      ]
    },
    {
      "cell_type": "code",
      "metadata": {
        "colab": {
          "base_uri": "https://localhost:8080/"
        },
        "id": "edMwLOEBh8ri",
        "outputId": "428b56d8-b4e8-4d9a-c621-b1d7aca93141"
      },
      "source": [
        "model2.load_weights('MLP.best_weights2.hdf5')\n",
        "mlp_score = model2.evaluate(x_test, y_test, verbose=0)\n",
        "print('\\n', 'Test accuracy:', mlp_score[1])"
      ],
      "execution_count": null,
      "outputs": [
        {
          "output_type": "stream",
          "name": "stdout",
          "text": [
            "\n",
            " Test accuracy: 0.41100001335144043\n"
          ]
        }
      ]
    },
    {
      "cell_type": "code",
      "metadata": {
        "colab": {
          "base_uri": "https://localhost:8080/"
        },
        "id": "kMoEAfEJijS6",
        "outputId": "c1eb9af6-f9e5-44bb-81d9-bf1c89444cc6"
      },
      "source": [
        "model3.load_weights('MLP.best_weights3.hdf5')\n",
        "mlp_score = model3.evaluate(x_test, y_test, verbose=0)\n",
        "print('\\n', 'Test accuracy:', mlp_score[1])"
      ],
      "execution_count": null,
      "outputs": [
        {
          "output_type": "stream",
          "name": "stdout",
          "text": [
            "\n",
            " Test accuracy: 0.48420000076293945\n"
          ]
        }
      ]
    },
    {
      "cell_type": "code",
      "metadata": {
        "colab": {
          "base_uri": "https://localhost:8080/"
        },
        "id": "WPqdNlbEilG-",
        "outputId": "207d5d3b-aa33-427f-b9cb-7d4d2656dcf1"
      },
      "source": [
        "model4.load_weights('MLP.best_weights4.hdf5')\n",
        "mlp_score = model4.evaluate(x_test, y_test, verbose=0)\n",
        "print('\\n', 'Test accuracy:', mlp_score[1])"
      ],
      "execution_count": null,
      "outputs": [
        {
          "output_type": "stream",
          "name": "stdout",
          "text": [
            "\n",
            " Test accuracy: 0.4449999928474426\n"
          ]
        }
      ]
    },
    {
      "cell_type": "code",
      "metadata": {
        "colab": {
          "base_uri": "https://localhost:8080/"
        },
        "id": "TA8vAWHZinRA",
        "outputId": "a686880e-1194-4a82-cbf4-2cafc279125f"
      },
      "source": [
        "model5.load_weights('MLP.best_weights5.hdf5')\n",
        "mlp_score = model5.evaluate(x_test, y_test, verbose=0)\n",
        "print('\\n', 'Test accuracy:', mlp_score[1])"
      ],
      "execution_count": null,
      "outputs": [
        {
          "output_type": "stream",
          "name": "stdout",
          "text": [
            "\n",
            " Test accuracy: 0.46369999647140503\n"
          ]
        }
      ]
    },
    {
      "cell_type": "code",
      "metadata": {
        "id": "OOJX46Ofm76n"
      },
      "source": [
        ""
      ],
      "execution_count": null,
      "outputs": []
    },
    {
      "cell_type": "code",
      "metadata": {
        "id": "dmdiWeqCm8P9"
      },
      "source": [
        ""
      ],
      "execution_count": null,
      "outputs": []
    },
    {
      "cell_type": "markdown",
      "metadata": {
        "id": "WVXZyZ58r533"
      },
      "source": [
        "1.3 Adding Dropout Layer"
      ]
    },
    {
      "cell_type": "code",
      "metadata": {
        "id": "xfCUog5SuNFi"
      },
      "source": [
        "import time\n",
        "train_times_dropout = []"
      ],
      "execution_count": null,
      "outputs": []
    },
    {
      "cell_type": "code",
      "metadata": {
        "id": "fe4Bq6C3m8gT"
      },
      "source": [
        "modeld1 = create_model2()\n",
        "modeld1.compile(loss='categorical_crossentropy', optimizer='adagrad', metrics=['accuracy'])\n",
        "from tensorflow.python.client import device_lib\n",
        "# print(device_lib.list_local_devices())\n",
        "s = time.time()\n",
        "histd1 = train(modeld1,'MLP.best_weights1.hdf5')\n",
        "train_times_dropout.append(time.time()-s)\n"
      ],
      "execution_count": null,
      "outputs": []
    },
    {
      "cell_type": "code",
      "metadata": {
        "id": "PjAJxXtCnFkc"
      },
      "source": [
        "modeld2 = create_model2()\n",
        "modeld2.compile(loss='categorical_crossentropy', optimizer='rmsprop', metrics=['accuracy'])\n",
        "from tensorflow.python.client import device_lib\n",
        "# print(device_lib.list_local_devices())\n",
        "s = time.time()\n",
        "histd2 = train(modeld2,'MLP.best_weights2.hdf5')\n",
        "train_times_dropout.append(time.time()-s)\n"
      ],
      "execution_count": null,
      "outputs": []
    },
    {
      "cell_type": "code",
      "metadata": {
        "id": "mWN8vS35nJ_Q"
      },
      "source": [
        "modeld3 = create_model2()\n",
        "modeld3.compile(loss='categorical_crossentropy', optimizer='nadam', metrics=['accuracy'])\n",
        "from tensorflow.python.client import device_lib\n",
        "# print(device_lib.list_local_devices())\n",
        "s = time.time()\n",
        "histd3 = train(modeld3,'MLP.best_weights3.hdf5')\n",
        "train_times_dropout.append(time.time()-s)\n"
      ],
      "execution_count": null,
      "outputs": []
    },
    {
      "cell_type": "code",
      "metadata": {
        "id": "SesB9zuonPuQ"
      },
      "source": [
        "modeld4 = create_model2()\n",
        "modeld4.compile(loss='categorical_crossentropy', optimizer='adadelta', metrics=['accuracy'])\n",
        "from tensorflow.python.client import device_lib\n",
        "# print(device_lib.list_local_devices())\n",
        "s = time.time()\n",
        "histd4 = train(modeld4,'MLP.best_weights4.hdf5')\n",
        "train_times_dropout.append(time.time()-s)\n"
      ],
      "execution_count": null,
      "outputs": []
    },
    {
      "cell_type": "code",
      "metadata": {
        "id": "dSSM61j2nVDr"
      },
      "source": [
        "modeld5 = create_model2()\n",
        "modeld5.compile(loss='categorical_crossentropy', optimizer='adam', metrics=['accuracy'])\n",
        "from tensorflow.python.client import device_lib\n",
        "# print(device_lib.list_local_devices())\n",
        "s = time.time()\n",
        "histd5 = train(modeld5,'MLP.best_weights5.hdf5')\n",
        "train_times_dropout.append(time.time()-s)\n"
      ],
      "execution_count": null,
      "outputs": []
    },
    {
      "cell_type": "code",
      "metadata": {
        "colab": {
          "base_uri": "https://localhost:8080/",
          "height": 442
        },
        "id": "SCeg3vRBna1V",
        "outputId": "18afa629-2c02-4600-814c-c208e3526482"
      },
      "source": [
        "plt.plot([i+1 for i in range(200)],histd1.history['loss'],label='Adagrad')\n",
        "plt.plot([i+1 for i in range(200)],histd2.history['loss'],label='RMSProp')\n",
        "plt.plot([i+1 for i in range(200)],histd3.history['loss'],label='RMSProp + Nesterov Momentum')\n",
        "plt.plot([i+1 for i in range(200)],histd4.history['loss'],label='AdaDelta')\n",
        "plt.plot([i+1 for i in range(200)],histd5.history['loss'],label='Adam')\n",
        "plt.legend(loc='upper right')\n",
        "plt.ylabel('Training Loss')\n",
        "plt.xlabel('Epochs')\n",
        "fig = plt.gcf()\n",
        "fig.set_size_inches(10, 7)\n",
        "# plt.ylim(0,5)\n",
        "plt.show()"
      ],
      "execution_count": null,
      "outputs": [
        {
          "output_type": "display_data",
          "data": {
            "image/png": "[encoded data removed]",
            "text/plain": [
              "<Figure size 720x504 with 1 Axes>"
            ]
          },
          "metadata": {
            "needs_background": "light"
          }
        }
      ]
    },
    {
      "cell_type": "markdown",
      "metadata": {
        "id": "3ZQC00tur-8Y"
      },
      "source": [
        "After adding dropout, the training losses have slightly increased when compared to without dropout for all the models. \\\\\n",
        "Adagrad performs thhe best as can be seen in the graph with dropout"
      ]
    },
    {
      "cell_type": "code",
      "metadata": {
        "colab": {
          "base_uri": "https://localhost:8080/"
        },
        "id": "n0rTdluvtcL0",
        "outputId": "7ce86dc8-d911-4ded-9c9e-df2404e34574"
      },
      "source": [
        "modeld1.load_weights('MLP.best_weights1.hdf5')\n",
        "mlp_score = modeld1.evaluate(x_test, y_test, verbose=0)\n",
        "print('\\n', 'Test accuracy:', mlp_score[1])"
      ],
      "execution_count": null,
      "outputs": [
        {
          "output_type": "stream",
          "name": "stdout",
          "text": [
            "\n",
            " Test accuracy: 0.4805999994277954\n"
          ]
        }
      ]
    },
    {
      "cell_type": "code",
      "metadata": {
        "colab": {
          "base_uri": "https://localhost:8080/"
        },
        "id": "4dn77EphCWQo",
        "outputId": "495e23c1-cdd5-46c3-d273-42562b2f5b1d"
      },
      "source": [
        "modeld2.load_weights('MLP.best_weights2.hdf5')\n",
        "mlp_score = modeld2.evaluate(x_test, y_test, verbose=0)\n",
        "print('\\n', 'Test accuracy:', mlp_score[1])"
      ],
      "execution_count": null,
      "outputs": [
        {
          "output_type": "stream",
          "name": "stdout",
          "text": [
            "\n",
            " Test accuracy: 0.3107999861240387\n"
          ]
        }
      ]
    },
    {
      "cell_type": "code",
      "metadata": {
        "colab": {
          "base_uri": "https://localhost:8080/"
        },
        "id": "uEe_MsWMCflv",
        "outputId": "8b2a8d14-421f-4e45-bdf1-a64a19cc49f3"
      },
      "source": [
        "modeld3.load_weights('MLP.best_weights3.hdf5')\n",
        "mlp_score = modeld3.evaluate(x_test, y_test, verbose=0)\n",
        "print('\\n', 'Test accuracy:', mlp_score[1])"
      ],
      "execution_count": null,
      "outputs": [
        {
          "output_type": "stream",
          "name": "stdout",
          "text": [
            "\n",
            " Test accuracy: 0.33390000462532043\n"
          ]
        }
      ]
    },
    {
      "cell_type": "code",
      "metadata": {
        "colab": {
          "base_uri": "https://localhost:8080/"
        },
        "id": "lBgIBCnzCjwz",
        "outputId": "a8b3d25b-95fd-4f2a-bf05-94e24544be79"
      },
      "source": [
        "model4.load_weights('MLP.best_weights4.hdf5')\n",
        "mlp_score = model4.evaluate(x_test, y_test, verbose=0)\n",
        "print('\\n', 'Test accuracy:', mlp_score[1])"
      ],
      "execution_count": null,
      "outputs": [
        {
          "output_type": "stream",
          "name": "stdout",
          "text": [
            "\n",
            " Test accuracy: 0.39969998598098755\n"
          ]
        }
      ]
    },
    {
      "cell_type": "code",
      "metadata": {
        "colab": {
          "base_uri": "https://localhost:8080/"
        },
        "id": "05eXtKdQCpxR",
        "outputId": "113a2a8b-bf59-41f5-e976-38e0c317e8fc"
      },
      "source": [
        "model5.load_weights('MLP.best_weights5.hdf5')\n",
        "mlp_score = model5.evaluate(x_test, y_test, verbose=0)\n",
        "print('\\n', 'Test accuracy:', mlp_score[1])"
      ],
      "execution_count": null,
      "outputs": [
        {
          "output_type": "stream",
          "name": "stdout",
          "text": [
            "\n",
            " Test accuracy: 0.4722000062465668\n"
          ]
        }
      ]
    },
    {
      "cell_type": "code",
      "metadata": {
        "id": "ktJazjLAvn8r"
      },
      "source": [
        "print(train_times)\n",
        "print(train_times_dropout)"
      ],
      "execution_count": null,
      "outputs": []
    },
    {
      "cell_type": "markdown",
      "metadata": {
        "id": "RlTMbS6hwCaQ"
      },
      "source": [
        "The training time while using dropout is slightly higher for all the 5 methods.\n",
        "\n",
        "The training times without dropout are \\\\\n",
        " Adagrad: 473.6551239326846, RMSProp: 597.1264545598701, Nadam: 774.2560119758035, Adadelta: 510.25771594047546, Adam: 485.9768748626594\n",
        "The training times with dropout are \\\\\n",
        " Adagrad: 485.1216578908032, RMSProp: 619.3265489090407, Nadam: 795.9480605789322, Adadelta: 526.6459204540786, Adam: 496.6264847750315\n",
        " "
      ]
    },
    {
      "cell_type": "markdown",
      "metadata": {
        "id": "eBJ4VGoawC2m"
      },
      "source": [
        "1.4. Test Accuracies: \\\\\n",
        "Adagrad: 0.5031999945640564 \\\\\n",
        "RMSProp: 0.41100001335144043 \\\\\n",
        "Nadam: 0.48420000076293945 \\\\\n",
        "AdaDelta: 0.4449999928474426 \\\\\n",
        "Adam: 0.46369999647140503 \\\\\n",
        "Adagrad achieves the highest test accuracy without dropout and RMSProp achieves the least\n",
        "\n",
        "\n",
        "Test Accuracies with dropout: \\\\\n",
        "Adagrad: 0.4805999994277954 \\\\\n",
        "RMSProp: 0.3107999861240387 \\\\\n",
        "Nadam: 0.33390000462532043 \\\\\n",
        "AdaDelta: 0.39969998598098755 \\\\\n",
        "Adam: 0.4722000062465668 \\\\\n",
        "Adagrad achieves the highest test accuracy with dropout and RMSProp achieves the least\n",
        "\n",
        "We can observe that all the 5 accuracies have decrease after using dropout."
      ]
    }
  ]
}